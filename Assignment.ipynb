{
 "cells": [
  {
   "cell_type": "markdown",
   "id": "9ccdf1f0",
   "metadata": {},
   "source": [
    "Question 1- Write a Python program to replace all occurrences of a space, comma, or dot with a colon.\n",
    "Sample Text- 'Python Exercises, PHP exercises.'\n",
    "Expected Output: Python:Exercises::PHP:exercises:\n"
   ]
  },
  {
   "cell_type": "code",
   "execution_count": null,
   "id": "7e2bcb67",
   "metadata": {},
   "outputs": [],
   "source": [
    "import re\n",
    "\n",
    "string = 'Python Exercises, PHP exercises'\n",
    "pattern = r'[ ,.]'\n",
    "replace = ':'\n",
    "new_string = re.sub(pattern, replace, string)\n",
    "print(new_string)\n"
   ]
  },
  {
   "cell_type": "markdown",
   "id": "40060992",
   "metadata": {},
   "source": [
    "Question 2-  Write a Python program to find all words starting with 'a' or 'e' in a given string."
   ]
  },
  {
   "cell_type": "code",
   "execution_count": null,
   "id": "05c9925b",
   "metadata": {},
   "outputs": [],
   "source": [
    "import re\n",
    "\n",
    "target_string =  'Python Exercises, PHP exercises.'\n",
    "result = re.findall(r'\\b[aeAE]\\w*\\b', target_string)\n",
    "print(result)\n"
   ]
  },
  {
   "cell_type": "markdown",
   "id": "ae1b0c22",
   "metadata": {},
   "source": [
    "Question 3- Create a function in python to find all words that are at least 4 characters long in a string. The use of the re.compile() method is mandatory."
   ]
  },
  {
   "cell_type": "code",
   "execution_count": null,
   "id": "1c906d1e",
   "metadata": {},
   "outputs": [],
   "source": [
    "import re\n",
    "\n",
    "string_B =  'Cake Fruits Bread Nut'\n",
    "pattern = re.compile(r'\\b\\w{4,}\\b')\n",
    "\n",
    "result = pattern.findall(string_B)\n",
    "print(result)\n"
   ]
  },
  {
   "cell_type": "markdown",
   "id": "30715757",
   "metadata": {},
   "source": [
    "Question 4- Create a function in python to find all three, four, and five character words in a string. The use of the re.compile() method is mandatory."
   ]
  },
  {
   "cell_type": "code",
   "execution_count": null,
   "id": "c664ede7",
   "metadata": {},
   "outputs": [],
   "source": [
    "import re\n",
    "\n",
    "string_B =  'Cake Fruits Bread Nut'\n",
    "pattern = re.compile(r'\\b\\w{3,5}\\b')\n",
    "\n",
    "result = pattern.findall(string_B)\n",
    "print(result)\n"
   ]
  },
  {
   "cell_type": "markdown",
   "id": "b780d5e1",
   "metadata": {},
   "source": [
    "Question 5- Create a function in Python to remove the parenthesis in a list of strings. The use of the re.compile() method is mandatory.\n",
    "\n",
    "Sample Text: [\"example (.com)\", \"hr@fliprobo (.com)\", \"github (.com)\", \"Hello (Data Science World)\", \"Data (Scientist)\"]\n",
    "Expected Output:\n",
    "example.com\n",
    "hr@fliprobo.com\n",
    "github.com\n",
    "Hello Data Science World\n",
    "Data Scientist\n"
   ]
  },
  {
   "cell_type": "code",
   "execution_count": null,
   "id": "13354f22",
   "metadata": {},
   "outputs": [],
   "source": [
    "import re\n",
    "sample_text = ['example (.com)', 'hr@fliprobo(.com)', 'github(.com)','Hello (Data_Science_World)', 'Data (Scientist)']\n",
    "pattern = re.compile(r'\\s?\\([^)]*\\)')\n",
    "\n",
    "cleaned_strings = [pattern.sub('',string) for string in sample_text]\n",
    "for string in cleaned_strings:\n",
    "    print(string)\n"
   ]
  },
  {
   "cell_type": "markdown",
   "id": "7e395131",
   "metadata": {},
   "source": [
    "Question 6- Write a python program to remove the parenthesis area from the text stored in the text file using Regular Expression.\n",
    "Sample Text: [\"example (.com)\", \"hr@fliprobo (.com)\", \"github (.com)\", \"Hello (Data Science World)\", \"Data (Scientist)\"]\n",
    "Expected Output: [\"example\", \"hr@fliprobo\", \"github\", \"Hello\", \"Data\"]\n",
    "Note- Store given sample text in the text file and then to remove the parenthesis area from the text.\n"
   ]
  },
  {
   "cell_type": "code",
   "execution_count": null,
   "id": "2bc89243",
   "metadata": {},
   "outputs": [],
   "source": [
    "import re\n",
    "\n",
    "sample_text = [\"example (.com)\", \"hr@fliprobo (.com)\", \"github (.com)\", \"Hello (Data Science World)\", \"Data (Scientist)\"]\n",
    "pattern = re.compile(r'\\s?\\([^)]*\\)')\n",
    "\n",
    "cleaned_text = pattern.sub('', sample_text)\n",
    "print(cleaned_text)"
   ]
  },
  {
   "cell_type": "markdown",
   "id": "540c4988",
   "metadata": {},
   "source": [
    "Question 7- Write a regular expression in Python to split a string into uppercase letters.\n",
    "Sample text: “ImportanceOfRegularExpressionsInPython”\n",
    "Expected Output: [‘Importance’, ‘Of’, ‘Regular’, ‘Expression’, ‘In’, ‘Python’]\n"
   ]
  },
  {
   "cell_type": "code",
   "execution_count": null,
   "id": "903766e7",
   "metadata": {},
   "outputs": [],
   "source": [
    "import re\n",
    "\n",
    "sample_text = \"ImportanceOfRegularExpressionsInPython\"\n",
    "string = re.findall(r'[A-Z][a-z]*', sample_text)\n",
    "print(string)\n"
   ]
  },
  {
   "cell_type": "markdown",
   "id": "51c0ee04",
   "metadata": {},
   "source": [
    "Question 8- Create a function in python to insert spaces between words starting with numbers.\n",
    "Sample Text: “RegularExpression1IsAn2ImportantTopic3InPython\"\n",
    "Expected Output: RegularExpression 1IsAn 2ImportantTopic 3InPython\n"
   ]
  },
  {
   "cell_type": "code",
   "execution_count": null,
   "id": "fc3ef86a",
   "metadata": {},
   "outputs": [],
   "source": [
    "import re\n",
    "\n",
    "sample_text = \"RegularExpression1IsAn2ImportantTopic3InPython\"\n",
    "pattern = re.compile(r'(\\d)([A-Za-z]+)')\n",
    "string = pattern.sub(r'\\1 \\2', sample_text)\n",
    "print(string)\n"
   ]
  },
  {
   "cell_type": "markdown",
   "id": "5884f809",
   "metadata": {},
   "source": [
    "Question 9- Create a function in python to insert spaces between words starting with capital letters or with numbers.\n",
    "Sample Text: “RegularExpression1IsAn2ImportantTopic3InPython\"\n",
    "Expected Output:  RegularExpression 1 IsAn 2 ImportantTopic 3 InPython\n"
   ]
  },
  {
   "cell_type": "code",
   "execution_count": null,
   "id": "abca54c2",
   "metadata": {},
   "outputs": [],
   "source": [
    "import re\n",
    "\n",
    "sample_text = \"RegularExpression1IsAn2ImportantTopic3InPython\"\n",
    "pattern = re.compile(r'([A-Z\\d])([A-Za-z\\d]+)')\n",
    "modified_text = pattern.sub(r'\\1 \\2', sample_text)\n",
    "print(modified_text)\n"
   ]
  },
  {
   "cell_type": "markdown",
   "id": "6ca871a6",
   "metadata": {},
   "source": [
    "Question 10- Write a python program to extract email address from the text stored in the text file using Regular Expression.\n",
    "Sample Text- Hello my name is Data Science and my email address is xyz@domain.com and alternate email address is xyz.abc@sdomain.domain.com. \n",
    "Please contact us at hr@fliprobo.com for further information. \n",
    "Expected Output: \n",
    "['xyz@domain.com', 'xyz.abc@sdomain.domain.com']\n",
    "['hr@fliprobo.com']\n",
    "\n",
    "Note- Store given sample text in the text file and then extract email addresses.\n"
   ]
  },
  {
   "cell_type": "code",
   "execution_count": null,
   "id": "11b1e9b6",
   "metadata": {},
   "outputs": [],
   "source": [
    "import re\n",
    "\n",
    "with open('sample_text.txt', 'r') as file:\n",
    "    content = file.read()\n",
    "\n",
    "email_pattern = re.compile(r'\\b[\\w\\.-]+@[\\w\\.-]+\\.\\w+\\b')\n",
    "email_addresses = email_pattern.findall(content)\n",
    "\n",
    "for email in email_addresses:\n",
    "    print(email)"
   ]
  },
  {
   "cell_type": "markdown",
   "id": "48753893",
   "metadata": {},
   "source": [
    "Question 11- Write a Python program to match a string that contains only upper and lowercase letters, numbers, and underscores."
   ]
  },
  {
   "cell_type": "code",
   "execution_count": null,
   "id": "01e863b5",
   "metadata": {},
   "outputs": [],
   "source": [
    "import re\n",
    "\n",
    "string = \"Hi, nice to_MeeT_you 123\"\n",
    "\n",
    "pattern = re.compile(r'^[A-Za-z0-9_]+$')\n",
    "matches = pattern.findall(string)\n",
    "\n",
    "if matches:\n",
    "    print(f\"Matches found: {matches}\")\n",
    "else:\n",
    "    print(\"No matches found.\")"
   ]
  },
  {
   "cell_type": "markdown",
   "id": "5d59c5a1",
   "metadata": {},
   "source": [
    "Question 12- Write a Python program where a string will start with a specific number. \n"
   ]
  },
  {
   "cell_type": "code",
   "execution_count": null,
   "id": "c1cec6d4",
   "metadata": {},
   "outputs": [],
   "source": [
    "import re\n",
    "\n",
    "string = \"Nice123\"\n",
    "number = \"123\"\n",
    "\n",
    "pattern = re.compile(r'^' + re.escape(number))\n",
    "\n",
    "if pattern.match(string):\n",
    "    print(f\"The string '{string}' starts with '{number}'.\")\n",
    "else:\n",
    "    print(f\"The string '{string}' does not start with '{number}'.\")\n"
   ]
  },
  {
   "cell_type": "markdown",
   "id": "194d3600",
   "metadata": {},
   "source": [
    "Question 13- Write a Python program to remove leading zeros from an IP address"
   ]
  },
  {
   "cell_type": "code",
   "execution_count": null,
   "id": "faf634be",
   "metadata": {},
   "outputs": [],
   "source": [
    "import re\n",
    "\n",
    "ip_address = \"221.112.334.222\"\n",
    "\n",
    "NEW_ip = re.sub(r'\\b0+(\\d)', r'\\1', ip_address)\n",
    "print(NEW_ip)\n"
   ]
  },
  {
   "cell_type": "markdown",
   "id": "4c114a0e",
   "metadata": {},
   "source": [
    "Question 14- Write a regular expression in python to match a date string in the form of Month name followed by day number and year stored in a text file.\n",
    "Sample text :  ' On August 15th 1947 that India was declared independent from British colonialism, and the reins of control were handed over to the leaders of the Country’.\n",
    "Expected Output- August 15th 1947\n",
    "Note- Store given sample text in the text file and then extract the date string asked format.\n"
   ]
  },
  {
   "cell_type": "code",
   "execution_count": null,
   "id": "70afc15d",
   "metadata": {},
   "outputs": [],
   "source": [
    "import re\n",
    "\n",
    "sample_text = 'On August 15th 1947 that India was declared independent from British colonialism, and the reins of control were handed over to the leaders of the Country'\n",
    "\n",
    "pattern = re.compile(r'\\b[A-Z][a-z]+\\s\\d{1,2}(?:st|nd|rd|th)?\\s\\d{4}\\b')\n",
    "match = pattern.search(sample_text)\n",
    "\n",
    "if match:\n",
    "    date = match.group()\n",
    "    print(date)\n",
    "else:\n",
    "    print(\"No matching date\")\n"
   ]
  },
  {
   "cell_type": "markdown",
   "id": "ead89421",
   "metadata": {},
   "source": [
    "Question 15- Write a Python program to search some literals strings in a string. \n",
    "Sample text : 'The quick brown fox jumps over the lazy dog.'\n",
    "Searched words : 'fox', 'dog', 'horse'\n"
   ]
  },
  {
   "cell_type": "code",
   "execution_count": null,
   "id": "50ee61d6",
   "metadata": {},
   "outputs": [],
   "source": [
    "import re\n",
    "\n",
    "sample_text = 'The quick brown fox jumps over the lazy dog.'\n",
    "searched_words = ['fox', 'dog', 'horse']\n",
    "\n",
    "pattern = re.compile(r'\\b(?:' + '|'.join(re.escape(word) for word in searched_words) + r')\\b')\n",
    "\n",
    "matches = pattern.findall(sample_text)\n",
    "\n",
    "for word in searched_words:\n",
    "    if word in matches:\n",
    "        print(f\"'{word}' is in the text.\")\n",
    "    else:\n",
    "        print(f\"'{word}' is not in the text.\")\n",
    "\n"
   ]
  },
  {
   "cell_type": "markdown",
   "id": "6d528333",
   "metadata": {},
   "source": [
    "Question 16- Write a Python program to search a literals string in a string and also find the location within the original string where the pattern occurs"
   ]
  },
  {
   "cell_type": "code",
   "execution_count": null,
   "id": "7b228ead",
   "metadata": {},
   "outputs": [],
   "source": [
    "import re\n",
    "\n",
    "sample_text = 'The quick brown fox jumps over the lazy dog.'\n",
    "searched_word = 'fox'\n",
    "\n",
    "pattern = re.compile(re.escape(searched_word))\n",
    "matches = pattern.finditer(sample_text)\n",
    "\n",
    "print(matches)"
   ]
  },
  {
   "cell_type": "markdown",
   "id": "bd6ec422",
   "metadata": {},
   "source": [
    "Question 17- Write a Python program to find the substrings within a string.\n",
    "Sample text : 'Python exercises, PHP exercises, C# exercises'\n",
    "Pattern : 'exercises'.\n"
   ]
  },
  {
   "cell_type": "code",
   "execution_count": null,
   "id": "6519acee",
   "metadata": {},
   "outputs": [],
   "source": [
    "import re\n",
    "\n",
    "sample_text = 'Python exercises, PHP exercises, C# exercises'\n",
    "pattern = 'exercises'\n",
    "\n",
    "matches = re.findall(pattern, sample_text)\n",
    "\n",
    "print(r\"Occurrences of '{pattern}'\")\n",
    "for match in matches:\n",
    "    print(match)"
   ]
  },
  {
   "cell_type": "markdown",
   "id": "5c43f4f9",
   "metadata": {},
   "source": [
    "Question 18- Write a Python program to find the occurrence and position of the substrings within a string."
   ]
  },
  {
   "cell_type": "code",
   "execution_count": null,
   "id": "2d1adc20",
   "metadata": {},
   "outputs": [],
   "source": [
    "import re\n",
    "\n",
    "sample_text = 'Python exercises, PHP exercises, C# exercises'\n",
    "pattern = 'exercises'\n",
    "\n",
    "matches = re.finditer(pattern, sample_text)\n",
    "\n",
    "print(f\"Occurrences of '{pattern}' in the text:\")\n",
    "for match in matches:\n",
    "    occurrence = match.group()\n",
    "    position = match.span()  \n",
    "    print(f\"'{occurrence}' {position[0]}-{position[1]}\")\n",
    "\n"
   ]
  },
  {
   "cell_type": "markdown",
   "id": "3b9138c5",
   "metadata": {},
   "source": [
    "Question 19- Write a Python program to convert a date of yyyy-mm-dd format to dd-mm-yyyy format."
   ]
  },
  {
   "cell_type": "code",
   "execution_count": null,
   "id": "a01fff98",
   "metadata": {},
   "outputs": [],
   "source": [
    "import re\n",
    "\n",
    "date_yyyy_mm_dd = '2023-08-08'\n",
    "\n",
    "# Use regex to match and rearrange components\n",
    "pattern = re.compile(r'(\\d{4})-(\\d{2})-(\\d{2})')\n",
    "converted_date = pattern.sub(r'\\3-\\2-\\1', date_yyyy_mm_dd)\n",
    "\n",
    "print(r\"Original date: {date_yyyy_mm_dd}\")\n",
    "print(r\"Converted date: {converted_date}\")\n"
   ]
  },
  {
   "cell_type": "markdown",
   "id": "d73042e9",
   "metadata": {},
   "source": [
    "Question 20- Create a function in python to find all decimal numbers with a precision of 1 or 2 in a string. The use of the re.compile() method is mandatory."
   ]
  },
  {
   "cell_type": "code",
   "execution_count": null,
   "id": "fac6696f",
   "metadata": {},
   "outputs": [],
   "source": [
    "import re\n",
    "\n",
    "sample_text = \"The price is $12.34 and the temperature is 25.1°C.\"\n",
    "\n",
    "pattern = re.compile(r'\\b\\d+\\.\\d{1,2}\\b')\n",
    "decimal_numbers = pattern.findall(sample_text)\n",
    "\n",
    "print(\"Decimal numbers with precision of 1 or 2:\")\n",
    "for number in decimal_numbers:\n",
    "    print(number)\n"
   ]
  },
  {
   "cell_type": "markdown",
   "id": "a0a31850",
   "metadata": {},
   "source": [
    "Question 21- Write a Python program to separate and print the numbers and their position of a given string."
   ]
  },
  {
   "cell_type": "code",
   "execution_count": null,
   "id": "1c075c31",
   "metadata": {},
   "outputs": [],
   "source": [
    "sample_string = \"There are 10 apples and 5 oranges, totaling 15 fruits.\"\n",
    "\n",
    "numbers = [(match.group(), match.start()) for match in re.finditer(r'\\d+', sample_string)]\n",
    "\n",
    "for number, position in numbers:\n",
    "    print(f\"{number},{position}\")\n"
   ]
  },
  {
   "cell_type": "markdown",
   "id": "f9632a2d",
   "metadata": {},
   "source": [
    "Question 22- Write a regular expression in python program to extract maximum/largest numeric value from a string.\n",
    "Sample Text:  'My marks in each semester are: 947, 896, 926, 524, 734, 950, 642'\n",
    "Expected Output: 950\n"
   ]
  },
  {
   "cell_type": "code",
   "execution_count": null,
   "id": "62d87f2f",
   "metadata": {},
   "outputs": [],
   "source": [
    "import re\n",
    "\n",
    "sample_text = 'My marks in each semester are: 947, 896, 926, 524, 734, 950, 642'\n",
    "\n",
    "numbers = re.findall(r'\\b\\d+\\b', sample_text)\n",
    "max_number = max(map(int, numbers))\n",
    "\n",
    "print(f\"{max_number}\")\n"
   ]
  },
  {
   "cell_type": "markdown",
   "id": "c7330d24",
   "metadata": {},
   "source": [
    "Question 23- Create a function in python to insert spaces between words starting with capital letters.\n",
    "Sample Text: “RegularExpressionIsAnImportantTopicInPython\"\n",
    "Expected Output: Regular Expression Is An Important Topic In Python\n"
   ]
  },
  {
   "cell_type": "code",
   "execution_count": null,
   "id": "bf6ae17e",
   "metadata": {},
   "outputs": [],
   "source": [
    "import re\n",
    "\n",
    "sample_text = \"RegularExpressionIsAnImportantTopicInPython\"\n",
    "\n",
    "modified_text = re.sub(r'(?<=[a-z])([A-Z])', r' \\1', sample_text)\n",
    "\n",
    "print(modified_text)\n"
   ]
  },
  {
   "cell_type": "markdown",
   "id": "3b08da16",
   "metadata": {},
   "source": [
    "Question 24- Python regex to find sequences of one upper case letter followed by lower case letters"
   ]
  },
  {
   "cell_type": "code",
   "execution_count": null,
   "id": "621e237c",
   "metadata": {},
   "outputs": [],
   "source": [
    "import re\n",
    "\n",
    "pattern = r'[A-Z][a-z]+'\n",
    "\n",
    "sample_text = \"ABcDeFgH iJK Lmn opQ rS\"\n",
    "matches = re.findall(pattern, sample_text)\n",
    "\n",
    "print(matches)\n"
   ]
  },
  {
   "cell_type": "markdown",
   "id": "21c2bc0e",
   "metadata": {},
   "source": [
    "Question 25- Write a Python program to remove continuous duplicate words from Sentence using Regular Expression.\n",
    "Sample Text: \"Hello hello world world\"\n",
    "Expected Output: Hello hello world\n"
   ]
  },
  {
   "cell_type": "code",
   "execution_count": null,
   "id": "794678d7",
   "metadata": {},
   "outputs": [],
   "source": [
    "import re\n",
    "\n",
    "sample_text = \"Hello hello world world\"\n",
    "\n",
    "pattern = r'\\b(\\w+)\\s+\\1\\b'\n",
    "new_text = re.sub(pattern, r'\\1', sample_text)\n",
    "\n",
    "print(new_text)\n"
   ]
  },
  {
   "cell_type": "markdown",
   "id": "d40b4c95",
   "metadata": {},
   "source": [
    "Question 26-  Write a python program using RegEx to accept string ending with alphanumeric character."
   ]
  },
  {
   "cell_type": "code",
   "execution_count": null,
   "id": "bd501223",
   "metadata": {},
   "outputs": [],
   "source": [
    "import re\n",
    "\n",
    "pattern = r'^.*[a-zA-Z0-9]$'\n",
    "\n",
    "sample_strings = [\"Hello\", \"World\", \"Testing456\"]\n",
    "\n",
    "for string in sample_strings:\n",
    "    if re.match(pattern, string):\n",
    "        print(f\"'{string}' is valid.\")\n",
    "    else:\n",
    "        print(f\"'{string}' is not valid.\")\n"
   ]
  },
  {
   "cell_type": "markdown",
   "id": "c27a2471",
   "metadata": {},
   "source": [
    "Question 27-Write a python program using RegEx to extract the hashtags.\n",
    "Sample Text:  \"\"\"RT @kapil_kausik: #Doltiwal I mean #xyzabc is \"hurt\" by #Demonetization as the same has rendered USELESS <ed><U+00A0><U+00BD><ed><U+00B1><U+0089> \"acquired funds\" No wo\"\"\"\n",
    "Expected Output: ['#Doltiwal', '#xyzabc', '#Demonetization']\n"
   ]
  },
  {
   "cell_type": "code",
   "execution_count": null,
   "id": "0c7253de",
   "metadata": {},
   "outputs": [],
   "source": [
    "import re\n",
    "\n",
    "sample_text = \"\"\"RT @kapil_kausik: #Doltiwal I mean #xyzabc is \"hurt\" by #Demonetization as the same has rendered USELESS <ed><U+00A0><U+00BD><ed><U+00B1><U+0089> \"acquired funds\" No wo\"\"\"\n",
    "\n",
    "hashtags = re.findall(r'#\\w+', sample_text)\n",
    "\n",
    "print(\"Extracted hashtags:\")\n",
    "print(hashtags)\n"
   ]
  },
  {
   "cell_type": "markdown",
   "id": "6d808cd0",
   "metadata": {},
   "source": [
    "Question 28- Write a python program using RegEx to remove <U+..> like symbols\n",
    "Check the below sample text, there are strange symbols something of the sort <U+..> all over the place. You need to come up with a general Regex expression that will cover all such symbols.\n",
    "Sample Text: \"@Jags123456 Bharat band on 28??<ed><U+00A0><U+00BD><ed><U+00B8><U+0082>Those who  are protesting #demonetization  are all different party leaders\"\n",
    "Expected Output: @Jags123456 Bharat band on 28??<ed><ed>Those who  are protesting #demonetization  are all different party leaders\n"
   ]
  },
  {
   "cell_type": "code",
   "execution_count": null,
   "id": "f3f15893",
   "metadata": {},
   "outputs": [],
   "source": [
    "import re\n",
    "\n",
    "sample_text = \"@Jags123456 Bharat band on 28??<ed><U+00A0><U+00BD><ed><U+00B8><U+0082>Those who  are protesting #demonetization  are all different party leaders\"\n",
    "\n",
    "cleaned_text = re.sub(r'<U\\+\\w{4}>', '', sample_text)\n",
    "\n",
    "print(\"Cleaned text:\")\n",
    "print(cleaned_text)\n"
   ]
  },
  {
   "cell_type": "markdown",
   "id": "7343e74d",
   "metadata": {},
   "source": [
    "Question 29- Write a python program to extract dates from the text stored in the text file.\n",
    "Sample Text: Ron was born on 12-09-1992 and he was admitted to school 15-12-1999.\n",
    "Note- Store this sample text in the file and then extract dates.\n"
   ]
  },
  {
   "cell_type": "code",
   "execution_count": null,
   "id": "fad7e3fb",
   "metadata": {},
   "outputs": [],
   "source": [
    "import re\n",
    "\n",
    "sample_text = \"Ron was born on 12-09-1992 and he was admitted to school 15-12-1999.\"\n",
    "\n",
    "date_pattern = re.compile(r'\\d{2}-\\d{2}-\\d{4}')\n",
    "dates = date_pattern.findall(sample_text)\n",
    "\n",
    "print(\"Extracted dates:\")\n",
    "print(dates)\n"
   ]
  },
  {
   "cell_type": "markdown",
   "id": "8a184d89",
   "metadata": {},
   "source": [
    "Question 30- Create a function in python to remove all words from a string of length between 2 and 4.\n",
    "The use of the re.compile() method is mandatory.\n",
    "Sample Text: \"The following example creates an ArrayList with a capacity of 50 elements. 4 elements are then added to the ArrayList and the ArrayList is trimmed accordingly.\"\n",
    "Expected Output:  following example creates ArrayList a capacity elements. 4 elements added ArrayList ArrayList trimmed accordingly.\n"
   ]
  },
  {
   "cell_type": "code",
   "execution_count": null,
   "id": "4152885e",
   "metadata": {},
   "outputs": [],
   "source": [
    "import re\n",
    "\n",
    "sample_text = \"The following example creates an ArrayList with a capacity of 50 elements. 4 elements are then added to the ArrayList and the ArrayList is trimmed accordingly.\"\n",
    "\n",
    "pattern = re.compile(r'\\b\\w{2,4}\\b')\n",
    "text = pattern.sub('', sample_text)\n",
    "\n",
    "print(text)\n"
   ]
  },
  {
   "cell_type": "code",
   "execution_count": null,
   "id": "e1b52065",
   "metadata": {},
   "outputs": [],
   "source": []
  }
 ],
 "metadata": {
  "kernelspec": {
   "display_name": "Python 3 (ipykernel)",
   "language": "python",
   "name": "python3"
  },
  "language_info": {
   "codemirror_mode": {
    "name": "ipython",
    "version": 3
   },
   "file_extension": ".py",
   "mimetype": "text/x-python",
   "name": "python",
   "nbconvert_exporter": "python",
   "pygments_lexer": "ipython3",
   "version": "3.9.13"
  }
 },
 "nbformat": 4,
 "nbformat_minor": 5
}
